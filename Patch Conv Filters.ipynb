{
 "cells": [
  {
   "cell_type": "markdown",
   "id": "048a3bcf",
   "metadata": {},
   "source": [
    "# MNIST patches"
   ]
  },
  {
   "cell_type": "code",
   "execution_count": 8,
   "id": "12f23c5a",
   "metadata": {},
   "outputs": [],
   "source": [
    "import matplotlib.pyplot as plt\n",
    "import numpy as np\n",
    "import tensorflow as tf"
   ]
  },
  {
   "cell_type": "code",
   "execution_count": 2,
   "id": "90cf2ec4",
   "metadata": {},
   "outputs": [],
   "source": [
    "(train_images, train_labels), (test_images, test_labels) = tf.keras.datasets.mnist.load_data()"
   ]
  },
  {
   "cell_type": "markdown",
   "id": "c2daec67",
   "metadata": {},
   "source": [
    "## Pad images with 5x5 padding"
   ]
  },
  {
   "cell_type": "code",
   "execution_count": 71,
   "id": "c7870214",
   "metadata": {},
   "outputs": [
    {
     "data": {
      "text/plain": [
       "(60000, 36, 36)"
      ]
     },
     "execution_count": 71,
     "metadata": {},
     "output_type": "execute_result"
    }
   ],
   "source": [
    "kernel_size = 5\n",
    "train_images_padded = np.pad(train_images, ((0, 0), (kernel_size - 1, kernel_size - 1), (kernel_size - 1, kernel_size - 1)))\n",
    "train_images_padded.shape"
   ]
  },
  {
   "cell_type": "code",
   "execution_count": 72,
   "id": "4fa5594f",
   "metadata": {},
   "outputs": [
    {
     "data": {
      "text/plain": [
       "(1024, 5, 5)"
      ]
     },
     "execution_count": 72,
     "metadata": {},
     "output_type": "execute_result"
    }
   ],
   "source": [
    "def make_patches(image, p=5):\n",
    "    width, height = image.shape\n",
    "    patches = np.random.randn((width - p + 1) * (height - p + 1), p, p)\n",
    "    for i in range(width - p + 1):\n",
    "        for j in range(height - p + 1):\n",
    "            patches[i * (height - p + 1) + j] = image[i:i + p, j:j + p]\n",
    "            \n",
    "    return patches\n",
    "\n",
    "for img in train_images_padded[:1]:\n",
    "    patches = make_patches(img)\n",
    "patches.shape"
   ]
  },
  {
   "cell_type": "code",
   "execution_count": 84,
   "id": "af8955f3",
   "metadata": {},
   "outputs": [],
   "source": [
    "def out_size(img_size, kernel_size, stride, padding):\n",
    "    return (img_size + 2 * padding - (kernel_size - 1) - 1) // stride + 1\n",
    "\n",
    "def conv2d_patches(img, kernel_size=(5, 5), stride=1, padding=0):\n",
    "    (img_width, img_height) = img.shape\n",
    "    (kernel_width, kernel_height) = kernel_size\n",
    "    out_width, out_height = out_size(img_width, kernel_width, stride, padding), out_size(img_height, kernel_height, stride, padding)\n",
    "\n",
    "    padded_img = np.pad(img, ((padding, padding), (padding, padding)))\n",
    "    out = np.empty((out_width, out_height, kernel_width, kernel_height))\n",
    "    for i, x in enumerate(range(0, out_width, stride)):\n",
    "        for j, y in enumerate(range(0, out_height, stride)):\n",
    "            out[i, j] = padded_img[x:x + kernel_width, y:y + kernel_height]\n",
    "    return out\n",
    "\n",
    "wolla = conv2d_patches(train_images[0])"
   ]
  },
  {
   "cell_type": "code",
   "execution_count": 85,
   "id": "0340754c",
   "metadata": {},
   "outputs": [
    {
     "data": {
      "text/plain": [
       "<matplotlib.image.AxesImage at 0x29bd1c5a7f0>"
      ]
     },
     "execution_count": 85,
     "metadata": {},
     "output_type": "execute_result"
    },
    {
     "data": {
      "image/png": "[encoded data removed]",
      "text/plain": [
       "<Figure size 864x432 with 2 Axes>"
      ]
     },
     "metadata": {
      "needs_background": "light"
     },
     "output_type": "display_data"
    }
   ],
   "source": [
    "fig, axs = plt.subplots(1, 2, figsize=(12, 6))\n",
    "axs[0].imshow(train_images_padded[0])\n",
    "axs[1].imshow(wolla[12, 12])"
   ]
  },
  {
   "cell_type": "markdown",
   "id": "9780c5de",
   "metadata": {},
   "source": [
    "## Neuron model"
   ]
  },
  {
   "cell_type": "code",
   "execution_count": 92,
   "id": "7b42140e",
   "metadata": {},
   "outputs": [],
   "source": [
    "rng = np.random.default_rng()\n",
    "\n",
    "class LIFEnsemble:\n",
    "    \n",
    "    def __init__(self, num_pixels, num_neurons):\n",
    "        self.exc_weights = rng.uniform(size=(num_neurons, num_pixels))\n",
    "        self.inh_weights = np.zeros((num_neurons, num_neurons))\n",
    "        \n",
    "        self.membrane_potential = np.zeros(num_neurons)\n",
    "        self.input_current = np.zeros(num_neurons)\n",
    "        self.thresholds = np.full(num_neurons, fill_value=5)\n",
    "        self.spikes = [np.zeros(num_neurons)]\n",
    "        \n",
    "        self.alpha = 0.01\n",
    "        self.beta = 0.0001\n",
    "        self.rho = 0.05\n",
    "        self.gamma = 0.02\n",
    "        \n",
    "    def step(self, pixels):\n",
    "        self.input_current = self.exc_weights @ pixels - self.inh_weights @ self.spikes[-1]\n",
    "        self.membrane_potential = self.input_current - self.membrane_potential\n",
    "        \n",
    "        self.spikes.append(self.membrane_potential > self.thresholds)\n",
    "        self.membrane_potential *= ~self.spikes[-1]\n",
    "        \n",
    "    def update(self, pixels):\n",
    "        n_i = np.stack(self.spikes[1:]).sum(0)\n",
    "        n_m = np.stack(self.spikes[1:]).sum(0)\n",
    "        \n",
    "        self.inh_weights += self.alpha * (np.outer(n_i, n_m) - self.rho**2)\n",
    "        self.inh_weights[np.diag_indices_from(self.inh_weights)] = 0\n",
    "        self.exc_weights += self.beta * (np.outer(n_i, pixels) - n_i**2 @ self.exc_weights)\n",
    "        self.thresholds += self.gamma * (n_i - self.rho)\n",
    "        self.spikes = self.spikes[:1]\n",
    "        "
   ]
  },
  {
   "cell_type": "code",
   "execution_count": 93,
   "id": "c104cc82",
   "metadata": {},
   "outputs": [],
   "source": [
    "ensemble = LIFEnsemble(25, 16)"
   ]
  },
  {
   "cell_type": "code",
   "execution_count": 98,
   "id": "96bdf4ab",
   "metadata": {},
   "outputs": [
    {
     "ename": "ValueError",
     "evalue": "matmul: Input operand 1 has a mismatch in its core dimension 0, with gufunc signature (n?,k),(k,m?)->(n?,m?) (size 5 is different from 16)",
     "output_type": "error",
     "traceback": [
      "\u001b[1;31m---------------------------------------------------------------------------\u001b[0m",
      "\u001b[1;31mValueError\u001b[0m                                Traceback (most recent call last)",
      "\u001b[1;32mC:\\Users\\NIELS-~1\\AppData\\Local\\Temp/ipykernel_17528/2998590258.py\u001b[0m in \u001b[0;36m<module>\u001b[1;34m\u001b[0m\n\u001b[0;32m      3\u001b[0m \u001b[1;32mfor\u001b[0m \u001b[0mpatch\u001b[0m \u001b[1;32min\u001b[0m \u001b[0mpatches\u001b[0m\u001b[1;33m:\u001b[0m\u001b[1;33m\u001b[0m\u001b[1;33m\u001b[0m\u001b[0m\n\u001b[0;32m      4\u001b[0m     \u001b[1;32mfor\u001b[0m \u001b[0mtime_step\u001b[0m \u001b[1;32min\u001b[0m \u001b[0mrange\u001b[0m\u001b[1;33m(\u001b[0m\u001b[1;36m20\u001b[0m\u001b[1;33m)\u001b[0m\u001b[1;33m:\u001b[0m\u001b[1;33m\u001b[0m\u001b[1;33m\u001b[0m\u001b[0m\n\u001b[1;32m----> 5\u001b[1;33m         \u001b[0mensemble\u001b[0m\u001b[1;33m.\u001b[0m\u001b[0mstep\u001b[0m\u001b[1;33m(\u001b[0m\u001b[0mpatch\u001b[0m\u001b[1;33m)\u001b[0m\u001b[1;33m\u001b[0m\u001b[1;33m\u001b[0m\u001b[0m\n\u001b[0m\u001b[0;32m      6\u001b[0m \u001b[1;33m\u001b[0m\u001b[0m\n\u001b[0;32m      7\u001b[0m     \u001b[0mensemble\u001b[0m\u001b[1;33m.\u001b[0m\u001b[0mupdate\u001b[0m\u001b[1;33m(\u001b[0m\u001b[0mpatch\u001b[0m\u001b[1;33m)\u001b[0m\u001b[1;33m\u001b[0m\u001b[1;33m\u001b[0m\u001b[0m\n",
      "\u001b[1;32mC:\\Users\\NIELS-~1\\AppData\\Local\\Temp/ipykernel_17528/1114444265.py\u001b[0m in \u001b[0;36mstep\u001b[1;34m(self, pixels)\u001b[0m\n\u001b[0;32m     18\u001b[0m \u001b[1;33m\u001b[0m\u001b[0m\n\u001b[0;32m     19\u001b[0m     \u001b[1;32mdef\u001b[0m \u001b[0mstep\u001b[0m\u001b[1;33m(\u001b[0m\u001b[0mself\u001b[0m\u001b[1;33m,\u001b[0m \u001b[0mpixels\u001b[0m\u001b[1;33m)\u001b[0m\u001b[1;33m:\u001b[0m\u001b[1;33m\u001b[0m\u001b[1;33m\u001b[0m\u001b[0m\n\u001b[1;32m---> 20\u001b[1;33m         \u001b[0mself\u001b[0m\u001b[1;33m.\u001b[0m\u001b[0minput_current\u001b[0m \u001b[1;33m=\u001b[0m \u001b[0mself\u001b[0m\u001b[1;33m.\u001b[0m\u001b[0mexc_weights\u001b[0m \u001b[1;33m@\u001b[0m \u001b[0mpixels\u001b[0m \u001b[1;33m-\u001b[0m \u001b[0mself\u001b[0m\u001b[1;33m.\u001b[0m\u001b[0minh_weights\u001b[0m \u001b[1;33m@\u001b[0m \u001b[0mself\u001b[0m\u001b[1;33m.\u001b[0m\u001b[0mspikes\u001b[0m\u001b[1;33m\u001b[0m\u001b[1;33m\u001b[0m\u001b[0m\n\u001b[0m\u001b[0;32m     21\u001b[0m         \u001b[0mself\u001b[0m\u001b[1;33m.\u001b[0m\u001b[0mmembrane_potential\u001b[0m \u001b[1;33m=\u001b[0m \u001b[0mself\u001b[0m\u001b[1;33m.\u001b[0m\u001b[0minput_current\u001b[0m \u001b[1;33m-\u001b[0m \u001b[0mself\u001b[0m\u001b[1;33m.\u001b[0m\u001b[0mmembrane_potential\u001b[0m\u001b[1;33m\u001b[0m\u001b[1;33m\u001b[0m\u001b[0m\n\u001b[0;32m     22\u001b[0m \u001b[1;33m\u001b[0m\u001b[0m\n",
      "\u001b[1;31mValueError\u001b[0m: matmul: Input operand 1 has a mismatch in its core dimension 0, with gufunc signature (n?,k),(k,m?)->(n?,m?) (size 5 is different from 16)"
     ]
    }
   ],
   "source": [
    "image = train_images[0]\n",
    "patches = conv2d_patches(image) / 255\n",
    "for patch in patches:\n",
    "    for time_step in range(20):\n",
    "        ensemble.step(patch)\n",
    "    \n",
    "    ensemble.update(patch)"
   ]
  }
 ],
 "metadata": {
  "kernelspec": {
   "display_name": "Python 3 (ipykernel)",
   "language": "python",
   "name": "python3"
  },
  "language_info": {
   "codemirror_mode": {
    "name": "ipython",
    "version": 3
   },
   "file_extension": ".py",
   "mimetype": "text/x-python",
   "name": "python",
   "nbconvert_exporter": "python",
   "pygments_lexer": "ipython3",
   "version": "3.8.5"
  }
 },
 "nbformat": 4,
 "nbformat_minor": 5
}
