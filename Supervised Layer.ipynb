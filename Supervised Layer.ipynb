{
 "cells": [
  {
   "cell_type": "markdown",
   "metadata": {},
   "source": [
    "# Nengo Supervised Learning\n",
    "\n",
    "__Huge__ inspiration was drawn from [this article](https://www.nengo.ai/nengo-loihi/v1.0.0/examples/mnist-convnet.html)."
   ]
  },
  {
   "cell_type": "markdown",
   "metadata": {},
   "source": [
    "## Import Nengo, NumPy, and TensorFlow"
   ]
  },
  {
   "cell_type": "code",
   "execution_count": 1,
   "metadata": {},
   "outputs": [],
   "source": [
    "import matplotlib.pyplot as plt\n",
    "# import nengo, nengo_dl, nengo_loihi\n",
    "import numpy as np\n",
    "import tensorflow as tf"
   ]
  },
  {
   "cell_type": "markdown",
   "metadata": {},
   "source": [
    "## Declare problem\n",
    "\n",
    "Very simple initial problem. Two bit inputs and an XOR target."
   ]
  },
  {
   "cell_type": "code",
   "execution_count": 2,
   "metadata": {},
   "outputs": [],
   "source": [
    "inputs = np.array([[0, 1], [0, 0], [1, 0], [1, 1]])\n",
    "labels = np.array([1, 0, 1, 0])"
   ]
  },
  {
   "cell_type": "markdown",
   "metadata": {},
   "source": [
    "## Declare model\n",
    "\n",
    "The model has two layers. The first layer starts from a `Node`. The problem inputs will be provided to this node from outside the model. This node is directly connected to the neurons of an ensemble. The second connection is between the neurons of this ensemble and the output `Node`. The weights of both connections are initialized with Glorot initialization. The output `Node` can be read from outside the model and thus serves as the model's output."
   ]
  },
  {
   "cell_type": "code",
   "execution_count": 3,
   "metadata": {
    "scrolled": true
   },
   "outputs": [],
   "source": [
    "max_rate = 100  # neuron firing rates\n",
    "# neuron spike amplitude (scaled so that the overall output is ~1)\n",
    "amp = 1 / max_rate\n",
    "presentation_time = 0.1\n",
    "\n",
    "model = nengo.Network()\n",
    "\n",
    "with model:\n",
    "    # set up the default parameters for ensembles/connections\n",
    "    nengo_loihi.add_params(model)\n",
    "    model.config[nengo.Ensemble].neuron_type = nengo.SpikingRectifiedLinear(\n",
    "        amplitude=amp#, initial_state={'voltage': 0},\n",
    "    )\n",
    "    model.config[nengo.Ensemble].max_rates = nengo.dists.Choice([max_rate])\n",
    "    model.config[nengo.Ensemble].intercepts = nengo.dists.Choice([0])\n",
    "    model.config[nengo.Connection].synapse = None  # finally makes it work\n",
    "    \n",
    "    features = nengo.Node(\n",
    "        nengo.processes.PresentInput(inputs, presentation_time), size_out=2,\n",
    "    )\n",
    "    \n",
    "    # intermediate Ensembles make network perform a lot better\n",
    "    ens1 = nengo.Ensemble(n_neurons=50, dimensions=1)\n",
    "    ens2 = nengo.Ensemble(n_neurons=50, dimensions=1)\n",
    "    conn1 = nengo.Connection(features, ens1.neurons, transform=nengo_dl.dists.Glorot())\n",
    "    conn2 = nengo.Connection(ens1.neurons, ens2.neurons, transform=nengo_dl.dists.Glorot())\n",
    "    \n",
    "    out = nengo.Node(size_in=2)\n",
    "    conn3 = nengo.Connection(ens2.neurons, out, transform=nengo_dl.dists.Glorot())\n",
    "    \n",
    "    out_p = nengo.Probe(out)\n",
    "    out_p_filt = nengo.Probe(out, synapse=nengo.Alpha(0.01))"
   ]
  },
  {
   "cell_type": "markdown",
   "metadata": {},
   "source": [
    "## Train model\n",
    "\n",
    "Nengo uses the interface from TensorFlow to train a SNN. TensorFlow must have GPU support in order for this training to work. Furthermore, the synapse of each connection needs to be set to None, as otherwise the synaptic delay is too large for the weights to change. The activation of the output `Node` is used to compute a loss that is used to optimize the weights of the two connections."
   ]
  },
  {
   "cell_type": "code",
   "execution_count": 4,
   "metadata": {},
   "outputs": [
    {
     "name": "stdout",
     "output_type": "stream",
     "text": [
      "Build finished in 0:00:00                                                      \n",
      "Optimization finished in 0:00:00                                               \n",
      "Construction finished in 0:00:01                                               \n",
      "Epoch 1/5\n",
      "400/400 [==============================] - 10s 19ms/step - loss: 0.4826 - probe_loss: 0.4826\n",
      "Epoch 2/5\n",
      "400/400 [==============================] - 8s 19ms/step - loss: 0.1818 - probe_loss: 0.1818\n",
      "Epoch 3/5\n",
      "400/400 [==============================] - 8s 19ms/step - loss: 0.1559 - probe_loss: 0.1559\n",
      "Epoch 4/5\n",
      "400/400 [==============================] - 8s 19ms/step - loss: 0.1254 - probe_loss: 0.1254\n",
      "Epoch 5/5\n",
      "400/400 [==============================] - 8s 19ms/step - loss: 0.0819 - probe_loss: 0.0819\n"
     ]
    }
   ],
   "source": [
    "train_inputs = np.tile(inputs[:, np.newaxis], (100, 1, 1))\n",
    "train_labels = np.tile(labels[:, np.newaxis, np.newaxis], (100, 1, 1))\n",
    "test_inputs = np.tile(inputs[:, np.newaxis], (1, 100, 1))\n",
    "test_labels = np.tile(labels[:, np.newaxis, np.newaxis], (1, 100, 1))\n",
    "\n",
    "with nengo_dl.Simulator(model, minibatch_size=1) as sim:\n",
    "    sim.compile(\n",
    "        optimizer=tf.optimizers.RMSprop(0.001),\n",
    "        loss={out_p: tf.losses.SparseCategoricalCrossentropy(from_logits=True)},\n",
    "    )\n",
    "    sim.fit(train_inputs, {out_p: train_labels}, epochs=5)\n",
    "    \n",
    "    sim.freeze_params(model)"
   ]
  },
  {
   "cell_type": "markdown",
   "metadata": {},
   "source": [
    "## Test model\n",
    "\n",
    "Test the model on the four possible inputs. The actual model is run with a synaptic delay as would be the case on the Loihi chip. The model seems to have trouble with only zero inputs, as it is not clear whether 0 or 1 is preferred in the bottom plot."
   ]
  },
  {
   "cell_type": "code",
   "execution_count": 5,
   "metadata": {},
   "outputs": [],
   "source": [
    "def classification_accuracy(y_true, y_pred):\n",
    "    print(y_true)\n",
    "    return 100 * tf.metrics.sparse_categorical_accuracy(y_true[:, -1], y_pred[:, -1])"
   ]
  },
  {
   "cell_type": "code",
   "execution_count": 6,
   "metadata": {},
   "outputs": [
    {
     "name": "stdout",
     "output_type": "stream",
     "text": [
      "Build finished in 0:00:00                                                      \n",
      "Optimization finished in 0:00:00                                               \n",
      "Construction finished in 0:00:00                                               \n",
      "Tensor(\"IteratorGetNext:2\", shape=(1, 100, 1), dtype=int32)                    \n",
      "Tensor(\"IteratorGetNext:2\", shape=(1, 100, 1), dtype=int32)                    \n",
      "Accuracy with synapse: 100.00\n"
     ]
    }
   ],
   "source": [
    "for conn in model.all_connections:\n",
    "    conn.synapse = 0.005\n",
    "\n",
    "with nengo_dl.Simulator(model, minibatch_size=1) as sim:\n",
    "    sim.compile(loss={out_p_filt: classification_accuracy})\n",
    "    accuracy = sim.evaluate(test_inputs, {out_p_filt: test_labels}, verbose=False)\n",
    "    print(f'Accuracy with synapse: {accuracy[\"loss\"]:.2f}')"
   ]
  },
  {
   "cell_type": "code",
   "execution_count": 7,
   "metadata": {},
   "outputs": [
    {
     "name": "stderr",
     "output_type": "stream",
     "text": [
      "D:\\Users\\Niels-laptop\\.conda\\envs\\neuro_comp\\lib\\site-packages\\nengo_loihi\\simulator.py:147: UserWarning: Model is precomputable. Setting precompute=False may slow execution.\n",
      "  warnings.warn(\n"
     ]
    }
   ],
   "source": [
    "for ensemble in model.all_ensembles:\n",
    "    ensemble.neuron_type = nengo.SpikingRectifiedLinear(\n",
    "        amplitude=amp, initial_state={'voltage': 0},\n",
    "    )\n",
    "\n",
    "with nengo_loihi.Simulator(\n",
    "    model,\n",
    "    dt=0.001,\n",
    "    precompute=False,\n",
    ") as sim:\n",
    "    # run the simulation on Loihi\n",
    "    sim.run(0.4)"
   ]
  },
  {
   "cell_type": "code",
   "execution_count": 8,
   "metadata": {},
   "outputs": [
    {
     "name": "stdout",
     "output_type": "stream",
     "text": [
      "True labels: [1, 0, 1, 0]\n"
     ]
    },
    {
     "data": {
      "image/png": "[encoded data removed]",
      "text/plain": [
       "<Figure size 432x288 with 1 Axes>"
      ]
     },
     "metadata": {
      "needs_background": "light"
     },
     "output_type": "display_data"
    }
   ],
   "source": [
    "plt.plot(sim.trange(), sim.data[out_p_filt])\n",
    "plt.legend(['0', '1'], loc=\"best\")\n",
    "print(f'True labels: {labels.tolist()}')"
   ]
  }
 ],
 "metadata": {
  "kernelspec": {
   "display_name": "Python 3 (ipykernel)",
   "language": "python",
   "name": "python3"
  },
  "language_info": {
   "codemirror_mode": {
    "name": "ipython",
    "version": 3
   },
   "file_extension": ".py",
   "mimetype": "text/x-python",
   "name": "python",
   "nbconvert_exporter": "python",
   "pygments_lexer": "ipython3",
   "version": "3.8.5"
  }
 },
 "nbformat": 4,
 "nbformat_minor": 5
}