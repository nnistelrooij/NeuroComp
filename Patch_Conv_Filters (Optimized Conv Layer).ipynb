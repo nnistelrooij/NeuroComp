{
  "nbformat": 4,
  "nbformat_minor": 5,
  "metadata": {
    "kernelspec": {
      "display_name": "Python 3 (ipykernel)",
      "language": "python",
      "name": "python3"
    },
    "language_info": {
      "codemirror_mode": {
        "name": "ipython",
        "version": 3
      },
      "file_extension": ".py",
      "mimetype": "text/x-python",
      "name": "python",
      "nbconvert_exporter": "python",
      "pygments_lexer": "ipython3",
      "version": "3.8.5"
    },
    "colab": {
      "name": "Patch Conv Filters.ipynb",
      "provenance": [],
      "collapsed_sections": []
    },
    "widgets": {
      "application/vnd.jupyter.widget-state+json": {
        "026f23e80219498792de044b86febffe": {
          "model_module": "@jupyter-widgets/controls",
          "model_name": "HBoxModel",
          "model_module_version": "1.5.0",
          "state": {
            "_view_name": "HBoxView",
            "_dom_classes": [],
            "_model_name": "HBoxModel",
            "_view_module": "@jupyter-widgets/controls",
            "_model_module_version": "1.5.0",
            "_view_count": null,
            "_view_module_version": "1.5.0",
            "box_style": "",
            "layout": "IPY_MODEL_09b09100f4b44e8d93722c9449c88d1b",
            "_model_module": "@jupyter-widgets/controls",
            "children": [
              "IPY_MODEL_e740e881ac3f4fa79178e75cb70965ee",
              "IPY_MODEL_74b8939510084474a38227db8ba6d162",
              "IPY_MODEL_d38f6e9a6cdf4b3980b4d3b5779273ba"
            ]
          }
        },
        "09b09100f4b44e8d93722c9449c88d1b": {
          "model_module": "@jupyter-widgets/base",
          "model_name": "LayoutModel",
          "model_module_version": "1.2.0",
          "state": {
            "_view_name": "LayoutView",
            "grid_template_rows": null,
            "right": null,
            "justify_content": null,
            "_view_module": "@jupyter-widgets/base",
            "overflow": null,
            "_model_module_version": "1.2.0",
            "_view_count": null,
            "flex_flow": null,
            "width": null,
            "min_width": null,
            "border": null,
            "align_items": null,
            "bottom": null,
            "_model_module": "@jupyter-widgets/base",
            "top": null,
            "grid_column": null,
            "overflow_y": null,
            "overflow_x": null,
            "grid_auto_flow": null,
            "grid_area": null,
            "grid_template_columns": null,
            "flex": null,
            "_model_name": "LayoutModel",
            "justify_items": null,
            "grid_row": null,
            "max_height": null,
            "align_content": null,
            "visibility": null,
            "align_self": null,
            "height": null,
            "min_height": null,
            "padding": null,
            "grid_auto_rows": null,
            "grid_gap": null,
            "max_width": null,
            "order": null,
            "_view_module_version": "1.2.0",
            "grid_template_areas": null,
            "object_position": null,
            "object_fit": null,
            "grid_auto_columns": null,
            "margin": null,
            "display": null,
            "left": null
          }
        },
        "e740e881ac3f4fa79178e75cb70965ee": {
          "model_module": "@jupyter-widgets/controls",
          "model_name": "HTMLModel",
          "model_module_version": "1.5.0",
          "state": {
            "_view_name": "HTMLView",
            "style": "IPY_MODEL_4d45c4b1620e46438ef53e2df1a14ff7",
            "_dom_classes": [],
            "description": "",
            "_model_name": "HTMLModel",
            "placeholder": "​",
            "_view_module": "@jupyter-widgets/controls",
            "_model_module_version": "1.5.0",
            "value": "100%",
            "_view_count": null,
            "_view_module_version": "1.5.0",
            "description_tooltip": null,
            "_model_module": "@jupyter-widgets/controls",
            "layout": "IPY_MODEL_57c502af53ff4aecb04eeee39aaf4f18"
          }
        },
        "74b8939510084474a38227db8ba6d162": {
          "model_module": "@jupyter-widgets/controls",
          "model_name": "FloatProgressModel",
          "model_module_version": "1.5.0",
          "state": {
            "_view_name": "ProgressView",
            "style": "IPY_MODEL_9fdf8d5909fb433887d6b07eba6cd7de",
            "_dom_classes": [],
            "description": "",
            "_model_name": "FloatProgressModel",
            "bar_style": "success",
            "max": 100,
            "_view_module": "@jupyter-widgets/controls",
            "_model_module_version": "1.5.0",
            "value": 100,
            "_view_count": null,
            "_view_module_version": "1.5.0",
            "orientation": "horizontal",
            "min": 0,
            "description_tooltip": null,
            "_model_module": "@jupyter-widgets/controls",
            "layout": "IPY_MODEL_5308ea311c0c4d619c14e1b249892170"
          }
        },
        "d38f6e9a6cdf4b3980b4d3b5779273ba": {
          "model_module": "@jupyter-widgets/controls",
          "model_name": "HTMLModel",
          "model_module_version": "1.5.0",
          "state": {
            "_view_name": "HTMLView",
            "style": "IPY_MODEL_e0959f431a904fb3b00993662cddb6ef",
            "_dom_classes": [],
            "description": "",
            "_model_name": "HTMLModel",
            "placeholder": "​",
            "_view_module": "@jupyter-widgets/controls",
            "_model_module_version": "1.5.0",
            "value": " 100/100 [00:20&lt;00:00,  4.99it/s]",
            "_view_count": null,
            "_view_module_version": "1.5.0",
            "description_tooltip": null,
            "_model_module": "@jupyter-widgets/controls",
            "layout": "IPY_MODEL_152837260a3b4e5c96d30b0a3ba1c2a0"
          }
        },
        "4d45c4b1620e46438ef53e2df1a14ff7": {
          "model_module": "@jupyter-widgets/controls",
          "model_name": "DescriptionStyleModel",
          "model_module_version": "1.5.0",
          "state": {
            "_view_name": "StyleView",
            "_model_name": "DescriptionStyleModel",
            "description_width": "",
            "_view_module": "@jupyter-widgets/base",
            "_model_module_version": "1.5.0",
            "_view_count": null,
            "_view_module_version": "1.2.0",
            "_model_module": "@jupyter-widgets/controls"
          }
        },
        "57c502af53ff4aecb04eeee39aaf4f18": {
          "model_module": "@jupyter-widgets/base",
          "model_name": "LayoutModel",
          "model_module_version": "1.2.0",
          "state": {
            "_view_name": "LayoutView",
            "grid_template_rows": null,
            "right": null,
            "justify_content": null,
            "_view_module": "@jupyter-widgets/base",
            "overflow": null,
            "_model_module_version": "1.2.0",
            "_view_count": null,
            "flex_flow": null,
            "width": null,
            "min_width": null,
            "border": null,
            "align_items": null,
            "bottom": null,
            "_model_module": "@jupyter-widgets/base",
            "top": null,
            "grid_column": null,
            "overflow_y": null,
            "overflow_x": null,
            "grid_auto_flow": null,
            "grid_area": null,
            "grid_template_columns": null,
            "flex": null,
            "_model_name": "LayoutModel",
            "justify_items": null,
            "grid_row": null,
            "max_height": null,
            "align_content": null,
            "visibility": null,
            "align_self": null,
            "height": null,
            "min_height": null,
            "padding": null,
            "grid_auto_rows": null,
            "grid_gap": null,
            "max_width": null,
            "order": null,
            "_view_module_version": "1.2.0",
            "grid_template_areas": null,
            "object_position": null,
            "object_fit": null,
            "grid_auto_columns": null,
            "margin": null,
            "display": null,
            "left": null
          }
        },
        "9fdf8d5909fb433887d6b07eba6cd7de": {
          "model_module": "@jupyter-widgets/controls",
          "model_name": "ProgressStyleModel",
          "model_module_version": "1.5.0",
          "state": {
            "_view_name": "StyleView",
            "_model_name": "ProgressStyleModel",
            "description_width": "",
            "_view_module": "@jupyter-widgets/base",
            "_model_module_version": "1.5.0",
            "_view_count": null,
            "_view_module_version": "1.2.0",
            "bar_color": null,
            "_model_module": "@jupyter-widgets/controls"
          }
        },
        "5308ea311c0c4d619c14e1b249892170": {
          "model_module": "@jupyter-widgets/base",
          "model_name": "LayoutModel",
          "model_module_version": "1.2.0",
          "state": {
            "_view_name": "LayoutView",
            "grid_template_rows": null,
            "right": null,
            "justify_content": null,
            "_view_module": "@jupyter-widgets/base",
            "overflow": null,
            "_model_module_version": "1.2.0",
            "_view_count": null,
            "flex_flow": null,
            "width": null,
            "min_width": null,
            "border": null,
            "align_items": null,
            "bottom": null,
            "_model_module": "@jupyter-widgets/base",
            "top": null,
            "grid_column": null,
            "overflow_y": null,
            "overflow_x": null,
            "grid_auto_flow": null,
            "grid_area": null,
            "grid_template_columns": null,
            "flex": null,
            "_model_name": "LayoutModel",
            "justify_items": null,
            "grid_row": null,
            "max_height": null,
            "align_content": null,
            "visibility": null,
            "align_self": null,
            "height": null,
            "min_height": null,
            "padding": null,
            "grid_auto_rows": null,
            "grid_gap": null,
            "max_width": null,
            "order": null,
            "_view_module_version": "1.2.0",
            "grid_template_areas": null,
            "object_position": null,
            "object_fit": null,
            "grid_auto_columns": null,
            "margin": null,
            "display": null,
            "left": null
          }
        },
        "e0959f431a904fb3b00993662cddb6ef": {
          "model_module": "@jupyter-widgets/controls",
          "model_name": "DescriptionStyleModel",
          "model_module_version": "1.5.0",
          "state": {
            "_view_name": "StyleView",
            "_model_name": "DescriptionStyleModel",
            "description_width": "",
            "_view_module": "@jupyter-widgets/base",
            "_model_module_version": "1.5.0",
            "_view_count": null,
            "_view_module_version": "1.2.0",
            "_model_module": "@jupyter-widgets/controls"
          }
        },
        "152837260a3b4e5c96d30b0a3ba1c2a0": {
          "model_module": "@jupyter-widgets/base",
          "model_name": "LayoutModel",
          "model_module_version": "1.2.0",
          "state": {
            "_view_name": "LayoutView",
            "grid_template_rows": null,
            "right": null,
            "justify_content": null,
            "_view_module": "@jupyter-widgets/base",
            "overflow": null,
            "_model_module_version": "1.2.0",
            "_view_count": null,
            "flex_flow": null,
            "width": null,
            "min_width": null,
            "border": null,
            "align_items": null,
            "bottom": null,
            "_model_module": "@jupyter-widgets/base",
            "top": null,
            "grid_column": null,
            "overflow_y": null,
            "overflow_x": null,
            "grid_auto_flow": null,
            "grid_area": null,
            "grid_template_columns": null,
            "flex": null,
            "_model_name": "LayoutModel",
            "justify_items": null,
            "grid_row": null,
            "max_height": null,
            "align_content": null,
            "visibility": null,
            "align_self": null,
            "height": null,
            "min_height": null,
            "padding": null,
            "grid_auto_rows": null,
            "grid_gap": null,
            "max_width": null,
            "order": null,
            "_view_module_version": "1.2.0",
            "grid_template_areas": null,
            "object_position": null,
            "object_fit": null,
            "grid_auto_columns": null,
            "margin": null,
            "display": null,
            "left": null
          }
        },
        "22a9077522334741a0b7c98aa15cab6c": {
          "model_module": "@jupyter-widgets/controls",
          "model_name": "HBoxModel",
          "model_module_version": "1.5.0",
          "state": {
            "_view_name": "HBoxView",
            "_dom_classes": [],
            "_model_name": "HBoxModel",
            "_view_module": "@jupyter-widgets/controls",
            "_model_module_version": "1.5.0",
            "_view_count": null,
            "_view_module_version": "1.5.0",
            "box_style": "",
            "layout": "IPY_MODEL_d99946d01224468386a312eba3668c56",
            "_model_module": "@jupyter-widgets/controls",
            "children": [
              "IPY_MODEL_f2de4b23d5d54a2fb1cd3ed68264ec21",
              "IPY_MODEL_4dab9893ec25408798b1930e8bad47f7",
              "IPY_MODEL_60d2c7dbca95434dbc9d880f2b036611"
            ]
          }
        },
        "d99946d01224468386a312eba3668c56": {
          "model_module": "@jupyter-widgets/base",
          "model_name": "LayoutModel",
          "model_module_version": "1.2.0",
          "state": {
            "_view_name": "LayoutView",
            "grid_template_rows": null,
            "right": null,
            "justify_content": null,
            "_view_module": "@jupyter-widgets/base",
            "overflow": null,
            "_model_module_version": "1.2.0",
            "_view_count": null,
            "flex_flow": null,
            "width": null,
            "min_width": null,
            "border": null,
            "align_items": null,
            "bottom": null,
            "_model_module": "@jupyter-widgets/base",
            "top": null,
            "grid_column": null,
            "overflow_y": null,
            "overflow_x": null,
            "grid_auto_flow": null,
            "grid_area": null,
            "grid_template_columns": null,
            "flex": null,
            "_model_name": "LayoutModel",
            "justify_items": null,
            "grid_row": null,
            "max_height": null,
            "align_content": null,
            "visibility": null,
            "align_self": null,
            "height": null,
            "min_height": null,
            "padding": null,
            "grid_auto_rows": null,
            "grid_gap": null,
            "max_width": null,
            "order": null,
            "_view_module_version": "1.2.0",
            "grid_template_areas": null,
            "object_position": null,
            "object_fit": null,
            "grid_auto_columns": null,
            "margin": null,
            "display": null,
            "left": null
          }
        },
        "f2de4b23d5d54a2fb1cd3ed68264ec21": {
          "model_module": "@jupyter-widgets/controls",
          "model_name": "HTMLModel",
          "model_module_version": "1.5.0",
          "state": {
            "_view_name": "HTMLView",
            "style": "IPY_MODEL_4a6799891d154f35abf53b05a17639ce",
            "_dom_classes": [],
            "description": "",
            "_model_name": "HTMLModel",
            "placeholder": "​",
            "_view_module": "@jupyter-widgets/controls",
            "_model_module_version": "1.5.0",
            "value": " 62%",
            "_view_count": null,
            "_view_module_version": "1.5.0",
            "description_tooltip": null,
            "_model_module": "@jupyter-widgets/controls",
            "layout": "IPY_MODEL_56340ae950c540638a0632c8ec1de4e8"
          }
        },
        "4dab9893ec25408798b1930e8bad47f7": {
          "model_module": "@jupyter-widgets/controls",
          "model_name": "FloatProgressModel",
          "model_module_version": "1.5.0",
          "state": {
            "_view_name": "ProgressView",
            "style": "IPY_MODEL_0c35e5c9fc794dfe82c40fa35f8f8999",
            "_dom_classes": [],
            "description": "",
            "_model_name": "FloatProgressModel",
            "bar_style": "danger",
            "max": 1000,
            "_view_module": "@jupyter-widgets/controls",
            "_model_module_version": "1.5.0",
            "value": 624,
            "_view_count": null,
            "_view_module_version": "1.5.0",
            "orientation": "horizontal",
            "min": 0,
            "description_tooltip": null,
            "_model_module": "@jupyter-widgets/controls",
            "layout": "IPY_MODEL_aa70e2d8d50f441990e4bd16b56a7b2c"
          }
        },
        "60d2c7dbca95434dbc9d880f2b036611": {
          "model_module": "@jupyter-widgets/controls",
          "model_name": "HTMLModel",
          "model_module_version": "1.5.0",
          "state": {
            "_view_name": "HTMLView",
            "style": "IPY_MODEL_33065ace2c5d4358b38f97c574776f60",
            "_dom_classes": [],
            "description": "",
            "_model_name": "HTMLModel",
            "placeholder": "​",
            "_view_module": "@jupyter-widgets/controls",
            "_model_module_version": "1.5.0",
            "value": " 624/1000 [01:35&lt;00:57,  6.56it/s]",
            "_view_count": null,
            "_view_module_version": "1.5.0",
            "description_tooltip": null,
            "_model_module": "@jupyter-widgets/controls",
            "layout": "IPY_MODEL_d52bd4c50135477fb451b1e082d7d529"
          }
        },
        "4a6799891d154f35abf53b05a17639ce": {
          "model_module": "@jupyter-widgets/controls",
          "model_name": "DescriptionStyleModel",
          "model_module_version": "1.5.0",
          "state": {
            "_view_name": "StyleView",
            "_model_name": "DescriptionStyleModel",
            "description_width": "",
            "_view_module": "@jupyter-widgets/base",
            "_model_module_version": "1.5.0",
            "_view_count": null,
            "_view_module_version": "1.2.0",
            "_model_module": "@jupyter-widgets/controls"
          }
        },
        "56340ae950c540638a0632c8ec1de4e8": {
          "model_module": "@jupyter-widgets/base",
          "model_name": "LayoutModel",
          "model_module_version": "1.2.0",
          "state": {
            "_view_name": "LayoutView",
            "grid_template_rows": null,
            "right": null,
            "justify_content": null,
            "_view_module": "@jupyter-widgets/base",
            "overflow": null,
            "_model_module_version": "1.2.0",
            "_view_count": null,
            "flex_flow": null,
            "width": null,
            "min_width": null,
            "border": null,
            "align_items": null,
            "bottom": null,
            "_model_module": "@jupyter-widgets/base",
            "top": null,
            "grid_column": null,
            "overflow_y": null,
            "overflow_x": null,
            "grid_auto_flow": null,
            "grid_area": null,
            "grid_template_columns": null,
            "flex": null,
            "_model_name": "LayoutModel",
            "justify_items": null,
            "grid_row": null,
            "max_height": null,
            "align_content": null,
            "visibility": null,
            "align_self": null,
            "height": null,
            "min_height": null,
            "padding": null,
            "grid_auto_rows": null,
            "grid_gap": null,
            "max_width": null,
            "order": null,
            "_view_module_version": "1.2.0",
            "grid_template_areas": null,
            "object_position": null,
            "object_fit": null,
            "grid_auto_columns": null,
            "margin": null,
            "display": null,
            "left": null
          }
        },
        "0c35e5c9fc794dfe82c40fa35f8f8999": {
          "model_module": "@jupyter-widgets/controls",
          "model_name": "ProgressStyleModel",
          "model_module_version": "1.5.0",
          "state": {
            "_view_name": "StyleView",
            "_model_name": "ProgressStyleModel",
            "description_width": "",
            "_view_module": "@jupyter-widgets/base",
            "_model_module_version": "1.5.0",
            "_view_count": null,
            "_view_module_version": "1.2.0",
            "bar_color": null,
            "_model_module": "@jupyter-widgets/controls"
          }
        },
        "aa70e2d8d50f441990e4bd16b56a7b2c": {
          "model_module": "@jupyter-widgets/base",
          "model_name": "LayoutModel",
          "model_module_version": "1.2.0",
          "state": {
            "_view_name": "LayoutView",
            "grid_template_rows": null,
            "right": null,
            "justify_content": null,
            "_view_module": "@jupyter-widgets/base",
            "overflow": null,
            "_model_module_version": "1.2.0",
            "_view_count": null,
            "flex_flow": null,
            "width": null,
            "min_width": null,
            "border": null,
            "align_items": null,
            "bottom": null,
            "_model_module": "@jupyter-widgets/base",
            "top": null,
            "grid_column": null,
            "overflow_y": null,
            "overflow_x": null,
            "grid_auto_flow": null,
            "grid_area": null,
            "grid_template_columns": null,
            "flex": null,
            "_model_name": "LayoutModel",
            "justify_items": null,
            "grid_row": null,
            "max_height": null,
            "align_content": null,
            "visibility": null,
            "align_self": null,
            "height": null,
            "min_height": null,
            "padding": null,
            "grid_auto_rows": null,
            "grid_gap": null,
            "max_width": null,
            "order": null,
            "_view_module_version": "1.2.0",
            "grid_template_areas": null,
            "object_position": null,
            "object_fit": null,
            "grid_auto_columns": null,
            "margin": null,
            "display": null,
            "left": null
          }
        },
        "33065ace2c5d4358b38f97c574776f60": {
          "model_module": "@jupyter-widgets/controls",
          "model_name": "DescriptionStyleModel",
          "model_module_version": "1.5.0",
          "state": {
            "_view_name": "StyleView",
            "_model_name": "DescriptionStyleModel",
            "description_width": "",
            "_view_module": "@jupyter-widgets/base",
            "_model_module_version": "1.5.0",
            "_view_count": null,
            "_view_module_version": "1.2.0",
            "_model_module": "@jupyter-widgets/controls"
          }
        },
        "d52bd4c50135477fb451b1e082d7d529": {
          "model_module": "@jupyter-widgets/base",
          "model_name": "LayoutModel",
          "model_module_version": "1.2.0",
          "state": {
            "_view_name": "LayoutView",
            "grid_template_rows": null,
            "right": null,
            "justify_content": null,
            "_view_module": "@jupyter-widgets/base",
            "overflow": null,
            "_model_module_version": "1.2.0",
            "_view_count": null,
            "flex_flow": null,
            "width": null,
            "min_width": null,
            "border": null,
            "align_items": null,
            "bottom": null,
            "_model_module": "@jupyter-widgets/base",
            "top": null,
            "grid_column": null,
            "overflow_y": null,
            "overflow_x": null,
            "grid_auto_flow": null,
            "grid_area": null,
            "grid_template_columns": null,
            "flex": null,
            "_model_name": "LayoutModel",
            "justify_items": null,
            "grid_row": null,
            "max_height": null,
            "align_content": null,
            "visibility": null,
            "align_self": null,
            "height": null,
            "min_height": null,
            "padding": null,
            "grid_auto_rows": null,
            "grid_gap": null,
            "max_width": null,
            "order": null,
            "_view_module_version": "1.2.0",
            "grid_template_areas": null,
            "object_position": null,
            "object_fit": null,
            "grid_auto_columns": null,
            "margin": null,
            "display": null,
            "left": null
          }
        }
      }
    }
  },
  "cells": [
    {
      "cell_type": "markdown",
      "metadata": {
        "id": "048a3bcf"
      },
      "source": [
        "# MNIST patches"
      ],
      "id": "048a3bcf"
    },
    {
      "cell_type": "code",
      "metadata": {
        "id": "12f23c5a"
      },
      "source": [
        "import matplotlib.pyplot as plt\n",
        "import numpy as np\n",
        "import tensorflow as tf\n",
        "from tqdm.notebook import tqdm"
      ],
      "id": "12f23c5a",
      "execution_count": 1,
      "outputs": []
    },
    {
      "cell_type": "code",
      "metadata": {
        "id": "90cf2ec4"
      },
      "source": [
        "(train_images, train_labels), (test_images, test_labels) = tf.keras.datasets.mnist.load_data()"
      ],
      "id": "90cf2ec4",
      "execution_count": 2,
      "outputs": []
    },
    {
      "cell_type": "markdown",
      "metadata": {
        "id": "c2daec67"
      },
      "source": [
        "## Pad images with 5x5 padding"
      ],
      "id": "c2daec67"
    },
    {
      "cell_type": "code",
      "metadata": {
        "colab": {
          "base_uri": "https://localhost:8080/"
        },
        "id": "c7870214",
        "outputId": "3b098ce4-8ce8-4481-8652-0015644e790a"
      },
      "source": [
        "kernel_size = 5\n",
        "train_images_padded = np.pad(train_images, ((0, 0), (kernel_size - 1, kernel_size - 1), (kernel_size - 1, kernel_size - 1)))\n",
        "train_images_padded.shape"
      ],
      "id": "c7870214",
      "execution_count": 3,
      "outputs": [
        {
          "output_type": "execute_result",
          "data": {
            "text/plain": [
              "(60000, 36, 36)"
            ]
          },
          "metadata": {},
          "execution_count": 3
        }
      ]
    },
    {
      "cell_type": "code",
      "metadata": {
        "id": "af8955f3"
      },
      "source": [
        "def out_size(img_size, kernel_size, stride, padding):\n",
        "    return (img_size + 2 * padding - (kernel_size - 1) - 1) // stride + 1\n",
        "\n",
        "def conv2d_patches(img, kernel_size=(5, 5), stride=1, padding=0):\n",
        "    (img_width, img_height) = img.shape\n",
        "    (kernel_width, kernel_height) = kernel_size\n",
        "    out_width, out_height = out_size(img_width, kernel_width, stride, padding), out_size(img_height, kernel_height, stride, padding)\n",
        "\n",
        "    padded_img = np.pad(img, ((padding, padding), (padding, padding)))\n",
        "    out = np.empty((out_width, out_height, kernel_width, kernel_height))\n",
        "    for i, x in enumerate(range(0, out_width, stride)):\n",
        "        for j, y in enumerate(range(0, out_height, stride)):\n",
        "            out[i, j] = padded_img[x:x + kernel_width, y:y + kernel_height]\n",
        "    return out / 255\n",
        "\n",
        "patch_test = conv2d_patches(train_images[0])"
      ],
      "id": "af8955f3",
      "execution_count": 4,
      "outputs": []
    },
    {
      "cell_type": "code",
      "metadata": {
        "colab": {
          "base_uri": "https://localhost:8080/",
          "height": 371
        },
        "id": "0340754c",
        "outputId": "479172b6-834d-420f-a6bc-55423901f159"
      },
      "source": [
        "fig, axs = plt.subplots(1, 2, figsize=(12, 6))\n",
        "axs[0].imshow(train_images_padded[0])\n",
        "axs[1].imshow(patch_test[12, 12])"
      ],
      "id": "0340754c",
      "execution_count": 5,
      "outputs": [
        {
          "output_type": "execute_result",
          "data": {
            "text/plain": [
              "<matplotlib.image.AxesImage at 0x7f18ea6a9950>"
            ]
          },
          "metadata": {},
          "execution_count": 5
        },
        {
          "output_type": "display_data",
          "data": {
            "image/png": "[encoded data removed]",
            "text/plain": [
              "<Figure size 864x432 with 2 Axes>"
            ]
          },
          "metadata": {
            "needs_background": "light"
          }
        }
      ]
    },
    {
      "cell_type": "markdown",
      "metadata": {
        "id": "9780c5de"
      },
      "source": [
        "## Neuron model"
      ],
      "id": "9780c5de"
    },
    {
      "cell_type": "code",
      "metadata": {
        "id": "7b42140e"
      },
      "source": [
        "rng = np.random.default_rng()\n",
        "\n",
        "class LIFEnsemble:\n",
        "    \n",
        "    def __init__(self, input_size, filter_count):\n",
        "        self.filter_count = filter_count\n",
        "\n",
        "        self.exc_weights = rng.uniform(size=(filter_count, input_size))\n",
        "        self.inh_weights = np.zeros((filter_count, filter_count))\n",
        "        self.thresholds = np.full(filter_count, fill_value=5.0)\n",
        "\n",
        "        self.reset()\n",
        "        \n",
        "        self.alpha = 0.01\n",
        "        self.beta = 0.0001\n",
        "        self.rho = 0.05\n",
        "        self.gamma = 0.02\n",
        "    \n",
        "    def reset(self):\n",
        "        self.membrane_potential = np.zeros(self.filter_count)\n",
        "        self.input_current = np.zeros(self.filter_count)\n",
        "        self.spikes = [np.zeros(self.filter_count)]\n",
        "        \n",
        "    def step(self, pixels):\n",
        "        self.input_current = self.exc_weights @ pixels - self.inh_weights @ self.spikes[-1]\n",
        "        self.membrane_potential += self.input_current\n",
        "        \n",
        "        self.spikes.append(self.membrane_potential > self.thresholds)\n",
        "        self.membrane_potential *= ~self.spikes[-1]\n",
        "        \n",
        "    def update(self, pixels):\n",
        "        n_i = np.stack(self.spikes[1:]).sum(0)\n",
        "        \n",
        "        self.inh_weights += self.alpha * (np.outer(n_i, n_i) - self.rho**2)\n",
        "        self.inh_weights[np.diag_indices_from(self.inh_weights)] = 0\n",
        "        # self.inh_weights = np.minimum(self.inh_weights, 0)\n",
        "\n",
        "        self.exc_weights += self.beta * np.outer(n_i, pixels - n_i @ self.exc_weights)\n",
        "        # self.exc_weights = np.maximum(self.exc_weights, 0)\n",
        "\n",
        "        self.thresholds += self.gamma * (n_i - self.rho)\n",
        "        \n",
        "        self.reset()\n",
        "        \n",
        "    def present(self, pixels, step_count):\n",
        "        # initialize neurons\n",
        "        membrane_potential = np.zeros(self.filter_count)\n",
        "        spikes = np.zeros((step_count + 1, self.filter_count), dtype=np.bool)\n",
        "        \n",
        "        # input_current = self.exc_weights @ pixels - self.inh_weights @ self.spikes[-1]\n",
        "        # the first part is the same each loop, so we precompute it for performance\n",
        "        exc_potential = self.exc_weights @ pixels\n",
        "        for step in range(step_count):\n",
        "            membrane_potential += exc_potential\n",
        "            membrane_potential -= self.inh_weights @ self.spikes[-1]\n",
        "            \n",
        "            spikes[step] = membrane_potential >= self.thresholds\n",
        "            membrane_potential *= ~spikes[-1]\n",
        "\n",
        "        # apply learning rules\n",
        "        n_i = spikes.sum(axis=0)\n",
        "        \n",
        "        self.inh_weights += self.alpha * (np.outer(n_i, n_i) - self.rho**2)\n",
        "        self.inh_weights[np.diag_indices_from(self.inh_weights)] = 0\n",
        "\n",
        "        self.exc_weights += self.beta * np.outer(n_i, pixels - n_i @ self.exc_weights)\n",
        "\n",
        "        self.thresholds += self.gamma * (n_i - self.rho)\n",
        "        "
      ],
      "id": "7b42140e",
      "execution_count": 6,
      "outputs": []
    },
    {
      "cell_type": "code",
      "metadata": {
        "id": "0dd91dc7"
      },
      "source": [
        "def plot_activations(ensemble, sample_image):    \n",
        "    fig, axs = plt.subplots(2, 3, figsize=(10, 6))\n",
        "    for i, axs in enumerate(axs.flatten()):\n",
        "        axs.imshow(ensemble.exc_weights[i].reshape(5, 5))\n",
        "    plt.show()\n",
        "    \n",
        "    fig, axs = plt.subplots(4, 4, figsize=(10, 10))\n",
        "    for filter_idx in range(16):\n",
        "        image_activations = np.zeros((28, 28))\n",
        "        image_padded = np.pad(sample_image, 4)\n",
        "        for i in range(28):\n",
        "            for j in range(28):\n",
        "                activation = (ensemble.exc_weights[filter_idx].reshape(5, 5) @ image_padded[i:i + 5, j:j + 5]).sum()\n",
        "                image_activations[i, j] = activation\n",
        "\n",
        "        axs[filter_idx // 4][filter_idx % 4].imshow(image_activations)\n",
        "\n",
        "    fig.suptitle('Filter activations')\n",
        "    plt.show()"
      ],
      "id": "0dd91dc7",
      "execution_count": 7,
      "outputs": []
    },
    {
      "cell_type": "code",
      "metadata": {
        "colab": {
          "base_uri": "https://localhost:8080/",
          "height": 1000
        },
        "id": "c104cc82",
        "outputId": "700582ef-b46e-478f-97dd-f00f1c22aeb2"
      },
      "source": [
        "ensemble = LIFEnsemble(25, 16)\n",
        "plot_activations(ensemble, train_images[5])"
      ],
      "id": "c104cc82",
      "execution_count": 8,
      "outputs": [
        {
          "output_type": "display_data",
          "data": {
            "image/png": "[encoded data removed]",
            "text/plain": [
              "<Figure size 720x432 with 6 Axes>"
            ]
          },
          "metadata": {
            "needs_background": "light"
          }
        },
        {
          "output_type": "display_data",
          "data": {
            "image/png": "[encoded data removed]",
            "text/plain": [
              "<Figure size 720x720 with 16 Axes>"
            ]
          },
          "metadata": {
            "needs_background": "light"
          }
        }
      ]
    },
    {
      "cell_type": "code",
      "metadata": {
        "colab": {
          "base_uri": "https://localhost:8080/",
          "height": 49,
          "referenced_widgets": [
            "026f23e80219498792de044b86febffe",
            "09b09100f4b44e8d93722c9449c88d1b",
            "e740e881ac3f4fa79178e75cb70965ee",
            "74b8939510084474a38227db8ba6d162",
            "d38f6e9a6cdf4b3980b4d3b5779273ba",
            "4d45c4b1620e46438ef53e2df1a14ff7",
            "57c502af53ff4aecb04eeee39aaf4f18",
            "9fdf8d5909fb433887d6b07eba6cd7de",
            "5308ea311c0c4d619c14e1b249892170",
            "e0959f431a904fb3b00993662cddb6ef",
            "152837260a3b4e5c96d30b0a3ba1c2a0"
          ]
        },
        "id": "96bdf4ab",
        "outputId": "d5cf68ea-94fe-458c-8339-93ef911cbe50"
      },
      "source": [
        "ensemble = LIFEnsemble(25, 16)\n",
        "for image in tqdm(train_images[:100]):\n",
        "    patches = conv2d_patches(image)\n",
        "    for patch in patches.reshape(576, 25):\n",
        "        for time_step in range(20):\n",
        "            ensemble.step(patch)\n",
        "\n",
        "        ensemble.update(patch)"
      ],
      "id": "96bdf4ab",
      "execution_count": 9,
      "outputs": [
        {
          "output_type": "display_data",
          "data": {
            "application/vnd.jupyter.widget-view+json": {
              "model_id": "026f23e80219498792de044b86febffe",
              "version_minor": 0,
              "version_major": 2
            },
            "text/plain": [
              "  0%|          | 0/100 [00:00<?, ?it/s]"
            ]
          },
          "metadata": {}
        }
      ]
    },
    {
      "cell_type": "code",
      "metadata": {
        "colab": {
          "base_uri": "https://localhost:8080/",
          "height": 1000
        },
        "id": "b69b2b7e",
        "outputId": "3b8e9186-e831-4095-9c1a-65a41cf9ad25"
      },
      "source": [
        "plot_activations(ensemble, train_images[5])"
      ],
      "id": "b69b2b7e",
      "execution_count": 10,
      "outputs": [
        {
          "output_type": "display_data",
          "data": {
            "image/png": "[encoded data removed]",
            "text/plain": [
              "<Figure size 720x432 with 6 Axes>"
            ]
          },
          "metadata": {
            "needs_background": "light"
          }
        },
        {
          "output_type": "display_data",
          "data": {
            "image/png": "[encoded data removed]",
            "text/plain": [
              "<Figure size 720x720 with 16 Axes>"
            ]
          },
          "metadata": {
            "needs_background": "light"
          }
        }
      ]
    },
    {
      "cell_type": "code",
      "metadata": {
        "colab": {
          "base_uri": "https://localhost:8080/",
          "height": 374,
          "referenced_widgets": [
            "22a9077522334741a0b7c98aa15cab6c",
            "d99946d01224468386a312eba3668c56",
            "f2de4b23d5d54a2fb1cd3ed68264ec21",
            "4dab9893ec25408798b1930e8bad47f7",
            "60d2c7dbca95434dbc9d880f2b036611",
            "4a6799891d154f35abf53b05a17639ce",
            "56340ae950c540638a0632c8ec1de4e8",
            "0c35e5c9fc794dfe82c40fa35f8f8999",
            "aa70e2d8d50f441990e4bd16b56a7b2c",
            "33065ace2c5d4358b38f97c574776f60",
            "d52bd4c50135477fb451b1e082d7d529"
          ]
        },
        "id": "1d2d1222",
        "outputId": "78711788-ecc0-4b8b-f190-c0b326c15c45"
      },
      "source": [
        "ensemble = LIFEnsemble(25, 16)\n",
        "for image in tqdm(train_images[:1000]):\n",
        "    patches = conv2d_patches(image)\n",
        "    for patch in patches.reshape(576, 25):\n",
        "        ensemble.present(patch, 20)"
      ],
      "id": "1d2d1222",
      "execution_count": 11,
      "outputs": [
        {
          "output_type": "display_data",
          "data": {
            "application/vnd.jupyter.widget-view+json": {
              "model_id": "22a9077522334741a0b7c98aa15cab6c",
              "version_minor": 0,
              "version_major": 2
            },
            "text/plain": [
              "  0%|          | 0/1000 [00:00<?, ?it/s]"
            ]
          },
          "metadata": {}
        },
        {
          "output_type": "error",
          "ename": "KeyboardInterrupt",
          "evalue": "ignored",
          "traceback": [
            "\u001b[0;31m---------------------------------------------------------------------------\u001b[0m",
            "\u001b[0;31mKeyboardInterrupt\u001b[0m                         Traceback (most recent call last)",
            "\u001b[0;32m<ipython-input-11-e85c3e362d14>\u001b[0m in \u001b[0;36m<module>\u001b[0;34m()\u001b[0m\n\u001b[1;32m      3\u001b[0m     \u001b[0mpatches\u001b[0m \u001b[0;34m=\u001b[0m \u001b[0mconv2d_patches\u001b[0m\u001b[0;34m(\u001b[0m\u001b[0mimage\u001b[0m\u001b[0;34m)\u001b[0m\u001b[0;34m\u001b[0m\u001b[0;34m\u001b[0m\u001b[0m\n\u001b[1;32m      4\u001b[0m     \u001b[0;32mfor\u001b[0m \u001b[0mpatch\u001b[0m \u001b[0;32min\u001b[0m \u001b[0mpatches\u001b[0m\u001b[0;34m.\u001b[0m\u001b[0mreshape\u001b[0m\u001b[0;34m(\u001b[0m\u001b[0;36m576\u001b[0m\u001b[0;34m,\u001b[0m \u001b[0;36m25\u001b[0m\u001b[0;34m)\u001b[0m\u001b[0;34m:\u001b[0m\u001b[0;34m\u001b[0m\u001b[0;34m\u001b[0m\u001b[0m\n\u001b[0;32m----> 5\u001b[0;31m         \u001b[0mensemble\u001b[0m\u001b[0;34m.\u001b[0m\u001b[0mpresent\u001b[0m\u001b[0;34m(\u001b[0m\u001b[0mpatch\u001b[0m\u001b[0;34m,\u001b[0m \u001b[0;36m20\u001b[0m\u001b[0;34m)\u001b[0m\u001b[0;34m\u001b[0m\u001b[0;34m\u001b[0m\u001b[0m\n\u001b[0m",
            "\u001b[0;32m<ipython-input-6-ee19b1360d08>\u001b[0m in \u001b[0;36mpresent\u001b[0;34m(self, pixels, step_count)\u001b[0m\n\u001b[1;32m     53\u001b[0m         \u001b[0;32mfor\u001b[0m \u001b[0mstep\u001b[0m \u001b[0;32min\u001b[0m \u001b[0mrange\u001b[0m\u001b[0;34m(\u001b[0m\u001b[0mstep_count\u001b[0m\u001b[0;34m)\u001b[0m\u001b[0;34m:\u001b[0m\u001b[0;34m\u001b[0m\u001b[0;34m\u001b[0m\u001b[0m\n\u001b[1;32m     54\u001b[0m             \u001b[0mmembrane_potential\u001b[0m \u001b[0;34m+=\u001b[0m \u001b[0mexc_potential\u001b[0m\u001b[0;34m\u001b[0m\u001b[0;34m\u001b[0m\u001b[0m\n\u001b[0;32m---> 55\u001b[0;31m             \u001b[0mmembrane_potential\u001b[0m \u001b[0;34m-=\u001b[0m \u001b[0mself\u001b[0m\u001b[0;34m.\u001b[0m\u001b[0minh_weights\u001b[0m \u001b[0;34m@\u001b[0m \u001b[0mself\u001b[0m\u001b[0;34m.\u001b[0m\u001b[0mspikes\u001b[0m\u001b[0;34m[\u001b[0m\u001b[0;34m-\u001b[0m\u001b[0;36m1\u001b[0m\u001b[0;34m]\u001b[0m\u001b[0;34m\u001b[0m\u001b[0;34m\u001b[0m\u001b[0m\n\u001b[0m\u001b[1;32m     56\u001b[0m \u001b[0;34m\u001b[0m\u001b[0m\n\u001b[1;32m     57\u001b[0m             \u001b[0mspikes\u001b[0m\u001b[0;34m[\u001b[0m\u001b[0mstep\u001b[0m\u001b[0;34m]\u001b[0m \u001b[0;34m=\u001b[0m \u001b[0mmembrane_potential\u001b[0m \u001b[0;34m>=\u001b[0m \u001b[0mself\u001b[0m\u001b[0;34m.\u001b[0m\u001b[0mthresholds\u001b[0m\u001b[0;34m\u001b[0m\u001b[0;34m\u001b[0m\u001b[0m\n",
            "\u001b[0;31mKeyboardInterrupt\u001b[0m: "
          ]
        }
      ]
    },
    {
      "cell_type": "code",
      "metadata": {
        "id": "c6755f61"
      },
      "source": [
        "plot_activations(ensemble, train_images[5])"
      ],
      "id": "c6755f61",
      "execution_count": null,
      "outputs": []
    },
    {
      "cell_type": "code",
      "metadata": {
        "id": "d1624059"
      },
      "source": [
        "class IFEnsemble:    \n",
        "    \n",
        "    def __init__(self, input_values):\n",
        "        self.input = input_values\n",
        "        \n",
        "        self.reset()\n",
        "        \n",
        "    def reset(self):\n",
        "        self.membrane_potential = np.zeros(self.filter_count)\n",
        "        self.spike = np.zeros(self.filter_count)        \n",
        "\n",
        "    def step(self):\n",
        "        self.membrane_potential += self.input\n",
        "        self.spikes = self.membrane_potential >= 1\n",
        "        self.membrane_potential -= self.input * self.spikes\n",
        "        \n",
        "        return self.spikes"
      ],
      "id": "d1624059",
      "execution_count": null,
      "outputs": []
    },
    {
      "cell_type": "code",
      "metadata": {
        "id": "9a683cbc"
      },
      "source": [
        "class ConvLayer:\n",
        "    \n",
        "    def __init__(self, exc_weights, in_ensemble):\n",
        "        self.exc_weights = exc_weights\n",
        "        self.filter_size = len(in_ensemble.input)\n",
        "        self.num_filters = exc_weights.shape[0]\n",
        "        \n",
        "        self.reset()       \n",
        "\n",
        "    def reset(self):        \n",
        "        self.membrane_potential = np.zeros((self.filter_size, self.num_filters))\n",
        "        self.input_current = np.zeros((self.filter_size, self.num_filters))\n",
        "        self.spikes = [np.zeros(self.filter_count)]\n",
        "        \n",
        "    def step(self, pixels):\n",
        "        pixels_ensemble = IFEnsemble(pixels)\n",
        "        \n",
        "        for t in range(20):\n",
        "            pixel_spikes = pixels_ensemble.step()\n",
        "        \n",
        "            patches = conv2d_patches(pixels, padding=4).reshape(-1, 5, 5)\n",
        "            for i, patch_i in enumerate(patches):\n",
        "                self.input_current[i] = kernel @ pixel_spikes\n",
        "                self.membrane_potential[i] += self.input_current[i]"
      ],
      "id": "9a683cbc",
      "execution_count": null,
      "outputs": []
    },
    {
      "cell_type": "code",
      "metadata": {
        "id": "Ud1e59pCcstB"
      },
      "source": [
        ""
      ],
      "id": "Ud1e59pCcstB",
      "execution_count": null,
      "outputs": []
    }
  ]
}